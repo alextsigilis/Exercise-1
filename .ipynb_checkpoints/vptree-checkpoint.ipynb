{
 "cells": [
  {
   "cell_type": "code",
   "execution_count": 147,
   "metadata": {},
   "outputs": [],
   "source": [
    "n = 50; d = 2; A = 100;\n",
    "X = A*rand(n, d);"
   ]
  },
  {
   "cell_type": "code",
   "execution_count": 149,
   "metadata": {},
   "outputs": [],
   "source": [
    "X;\n",
    "T = vpTree(X);\n",
    "T;"
   ]
  },
  {
   "cell_type": "code",
   "execution_count": 150,
   "metadata": {},
   "outputs": [],
   "source": [
    "save 'vptree/data.in' X;"
   ]
  },
  {
   "cell_type": "code",
   "execution_count": 137,
   "metadata": {},
   "outputs": [
    {
     "name": "stdout",
     "output_type": "stream",
     "text": [
      "dist =\r\n",
      "\r\n",
      "   78.515\r\n",
      "   77.377\r\n",
      "   37.004\r\n",
      "   18.473\r\n",
      "\r\n"
     ]
    }
   ],
   "source": [
    "dist = sqrt( sum((X(1:n-1,:) - X(n,:)).^2,2) )"
   ]
  },
  {
   "cell_type": "code",
   "execution_count": 138,
   "metadata": {},
   "outputs": [
    {
     "name": "stdout",
     "output_type": "stream",
     "text": [
      "med =  57.191\r\n"
     ]
    }
   ],
   "source": [
    "med = median(ans)"
   ]
  },
  {
   "cell_type": "code",
   "execution_count": 139,
   "metadata": {},
   "outputs": [
    {
     "name": "stdout",
     "output_type": "stream",
     "text": [
      "inner =\r\n",
      "\r\n",
      "  0\r\n",
      "  0\r\n",
      "  1\r\n",
      "  1\r\n",
      "\r\n"
     ]
    }
   ],
   "source": [
    "inner = dist <= med"
   ]
  },
  {
   "cell_type": "code",
   "execution_count": 153,
   "metadata": {},
   "outputs": [],
   "source": [
    "function d_T (T)\n",
    "    if(size(T,1) > 0)\n",
    "        disp([T.idx, T.md])\n",
    "        d_T(T.inner)\n",
    "        d_T(T.outer)\n",
    "    end\n",
    "end"
   ]
  },
  {
   "cell_type": "code",
   "execution_count": 154,
   "metadata": {},
   "outputs": [
    {
     "name": "stdout",
     "output_type": "stream",
     "text": [
      "   50.000   56.010\r\n"
     ]
    }
   ],
   "source": [
    "d_T(T)"
   ]
  },
  {
   "cell_type": "code",
   "execution_count": null,
   "metadata": {},
   "outputs": [],
   "source": []
  }
 ],
 "metadata": {
  "kernelspec": {
   "display_name": "Octave",
   "language": "octave",
   "name": "octave"
  },
  "language_info": {
   "file_extension": ".m",
   "help_links": [
    {
     "text": "GNU Octave",
     "url": "https://www.gnu.org/software/octave/support.html"
    },
    {
     "text": "Octave Kernel",
     "url": "https://github.com/Calysto/octave_kernel"
    },
    {
     "text": "MetaKernel Magics",
     "url": "https://metakernel.readthedocs.io/en/latest/source/README.html"
    }
   ],
   "mimetype": "text/x-octave",
   "name": "octave",
   "version": "5.1.0"
  }
 },
 "nbformat": 4,
 "nbformat_minor": 2
}
