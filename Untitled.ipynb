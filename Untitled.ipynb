{
 "cells": [
  {
   "cell_type": "code",
   "execution_count": 8,
   "metadata": {},
   "outputs": [
    {
     "name": "stdout",
     "output_type": "stream",
     "text": [
      "A =\r\n",
      "\r\n",
      "   3.00000   2.00000\r\n",
      "   6.38671   0.91797\r\n",
      "   7.95267   0.23326\r\n",
      "   9.02016   6.62601\r\n",
      "\r\n"
     ]
    }
   ],
   "source": [
    "n = 3; d = 2;\n",
    "X = 10*rand(n,d);\n",
    "\n",
    "A = [n d; X]"
   ]
  },
  {
   "cell_type": "code",
   "execution_count": 9,
   "metadata": {},
   "outputs": [],
   "source": [
    "save 'vptree/data.in' A"
   ]
  },
  {
   "cell_type": "code",
   "execution_count": 10,
   "metadata": {},
   "outputs": [
    {
     "name": "stdout",
     "output_type": "stream",
     "text": [
      "ans =\r\n",
      "\r\n",
      "  scalar structure containing the fields:\r\n",
      "\r\n",
      "    vp =\r\n",
      "\r\n",
      "       9.0202   6.6260\r\n",
      "\r\n",
      "    idx =  3\r\n",
      "    md =  6.3838\r\n",
      "    inner =\r\n",
      "\r\n",
      "      scalar structure containing the fields:\r\n",
      "\r\n",
      "        vp =\r\n",
      "\r\n",
      "           6.38671   0.91797\r\n",
      "\r\n",
      "        idx =  1\r\n",
      "        md = 0\r\n",
      "        inner = [](0x0)\r\n",
      "        outer = [](0x0)\r\n",
      "\r\n",
      "    outer =\r\n",
      "\r\n",
      "      scalar structure containing the fields:\r\n",
      "\r\n",
      "        vp =\r\n",
      "\r\n",
      "           7.95267   0.23326\r\n",
      "\r\n",
      "        idx =  2\r\n",
      "        md = 0\r\n",
      "        inner = [](0x0)\r\n",
      "        outer = [](0x0)\r\n",
      "\r\n",
      "\r\n"
     ]
    }
   ],
   "source": [
    "vpTree(X)"
   ]
  },
  {
   "cell_type": "code",
   "execution_count": null,
   "metadata": {},
   "outputs": [],
   "source": []
  }
 ],
 "metadata": {
  "kernelspec": {
   "display_name": "Octave",
   "language": "octave",
   "name": "octave"
  },
  "language_info": {
   "file_extension": ".m",
   "help_links": [
    {
     "text": "GNU Octave",
     "url": "https://www.gnu.org/software/octave/support.html"
    },
    {
     "text": "Octave Kernel",
     "url": "https://github.com/Calysto/octave_kernel"
    },
    {
     "text": "MetaKernel Magics",
     "url": "https://metakernel.readthedocs.io/en/latest/source/README.html"
    }
   ],
   "mimetype": "text/x-octave",
   "name": "octave",
   "version": "5.1.0"
  }
 },
 "nbformat": 4,
 "nbformat_minor": 2
}
