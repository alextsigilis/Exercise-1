{
 "cells": [
  {
   "cell_type": "code",
   "execution_count": 14,
   "metadata": {},
   "outputs": [
    {
     "data": {
      "image/png": "[encoded data removed]",
      "text/plain": [
       "<IPython.core.display.Image object>"
      ]
     },
     "metadata": {},
     "output_type": "display_data"
    }
   ],
   "source": [
    "clear;\n",
    "\n",
    "n = 100000; d = 2; % works for any d\n",
    "X = rand(n,d);\n",
    "% assume vantage point is the last one\n",
    "% get squares of distances from it\n",
    "d = sqrt( sum((X(1:n-1,:) - X(n,:)).^2,2) );\n",
    "% and find the median distance\n",
    "medianDistance = median(d);\n",
    "% plot them to confirm\n",
    "clf; hold on; axis equal\n",
    "plot(X(d <= medianDistance,1), X(d <= medianDistance,2), 'r.')\n",
    "plot(X(d > medianDistance,1), X(d > medianDistance,2), 'b.')\n",
    "plot(X(n,1), X(n,2), 'bo') % vantage point"
   ]
  },
  {
   "cell_type": "code",
   "execution_count": 16,
   "metadata": {},
   "outputs": [],
   "source": [
    "function T = vpTree(X)\n",
    "% function T = vpTree(X)\n",
    "% computes the vantage point tree structure with\n",
    "% T.vp : the vantage point\n",
    "% T.md : the median distance of the vantage point to the other points\n",
    "% T.idx : the index of the vantage point in the original set\n",
    "% T.inner and T.outer : vantage-point subtrees\n",
    "% of a set of n points in d dimensions with coordinates X(1:n,1:d)\n",
    "%\n",
    "    T = vpt(X, 1:size(X,1));\n",
    "    \n",
    "    function T = vpt(X, idx)\n",
    "        n = size(X,1); % number of points\n",
    "        \n",
    "        if n == 0\n",
    "            T = [];\n",
    "            \n",
    "        else\n",
    "            T.vp = X(n,:);\n",
    "            T.idx = idx(n);\n",
    "            d = sqrt( sum((X(1:n-1,:) - X(n,:)).^2,2) );\n",
    "            medianDistance = median(d);\n",
    "            T.md = medianDistance;\n",
    "            % split and recurse\n",
    "            inner = d <= medianDistance;\n",
    "            T.inner = vpt(X( inner,:), idx( inner));\n",
    "            T.outer = vpt(X(~inner,:), idx(~inner));\n",
    "        end\n",
    "    end\n",
    "end"
   ]
  },
  {
   "cell_type": "code",
   "execution_count": 22,
   "metadata": {},
   "outputs": [
    {
     "name": "stdout",
     "output_type": "stream",
     "text": [
      "error: median: X cannot be an empty matrix\r\n",
      "error: called from\r\n",
      "    median at line 70 column 5\r\n",
      "    vpt at line 11 column 28\r\n",
      "    vpt at line 15 column 21\r\n",
      "    vpTree at line 10 column 7\r\n"
     ]
    }
   ],
   "source": [
    "T = vpTree(X)"
   ]
  },
  {
   "cell_type": "code",
   "execution_count": 23,
   "metadata": {},
   "outputs": [
    {
     "name": "stdout",
     "output_type": "stream",
     "text": [
      "error: 'T' undefined near line 1 column 1\r\n"
     ]
    }
   ],
   "source": [
    "T"
   ]
  },
  {
   "cell_type": "code",
   "execution_count": null,
   "metadata": {},
   "outputs": [],
   "source": []
  }
 ],
 "metadata": {
  "kernelspec": {
   "display_name": "Octave",
   "language": "octave",
   "name": "octave"
  },
  "language_info": {
   "file_extension": ".m",
   "help_links": [
    {
     "text": "GNU Octave",
     "url": "https://www.gnu.org/software/octave/support.html"
    },
    {
     "text": "Octave Kernel",
     "url": "https://github.com/Calysto/octave_kernel"
    },
    {
     "text": "MetaKernel Magics",
     "url": "https://metakernel.readthedocs.io/en/latest/source/README.html"
    }
   ],
   "mimetype": "text/x-octave",
   "name": "octave",
   "version": "5.1.0"
  }
 },
 "nbformat": 4,
 "nbformat_minor": 2
}
